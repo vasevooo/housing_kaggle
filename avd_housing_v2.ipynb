{
 "cells": [
  {
   "cell_type": "code",
   "execution_count": 1,
   "metadata": {},
   "outputs": [],
   "source": [
    "import pandas as pd\n",
    "import seaborn as sns\n",
    "import numpy as np\n",
    "import matplotlib.pyplot as plt"
   ]
  },
  {
   "attachments": {},
   "cell_type": "markdown",
   "metadata": {},
   "source": [
    "## Data Preparation"
   ]
  },
  {
   "cell_type": "markdown",
   "metadata": {},
   "source": [
    "### Data Loading"
   ]
  },
  {
   "cell_type": "code",
   "execution_count": 2,
   "metadata": {},
   "outputs": [
    {
     "data": {
      "text/plain": [
       "((1460, 81), (1459, 80))"
      ]
     },
     "execution_count": 2,
     "metadata": {},
     "output_type": "execute_result"
    }
   ],
   "source": [
    "path_train = '/Users/vasevooo/projects/house_prices/housing_kaggle/data/train.csv'\n",
    "path_test = '/Users/vasevooo/projects/house_prices/housing_kaggle/data/test.csv'\n",
    "\n",
    "df_train = pd.read_csv(path_train)\n",
    "df_test = pd.read_csv(path_test)\n",
    "\n",
    "df_train.head()\n",
    "df_train.shape, df_test.shape\n"
   ]
  },
  {
   "cell_type": "code",
   "execution_count": 3,
   "metadata": {},
   "outputs": [
    {
     "data": {
      "text/plain": [
       "(1460, 1459)"
      ]
     },
     "execution_count": 3,
     "metadata": {},
     "output_type": "execute_result"
    }
   ],
   "source": [
    "df = pd.concat([df_train.drop('SalePrice', axis=1), df_test], axis=0)\n",
    "df.reset_index(inplace=True, drop=True)\n",
    "y = np.log(df_train['SalePrice'])\n",
    "df.head(5)\n",
    "\n",
    "ind_train = df_train.shape[0]\n",
    "ind_test = df_test.shape[0]\n",
    "\n",
    "ind_train, ind_test\n"
   ]
  },
  {
   "cell_type": "code",
   "execution_count": 4,
   "metadata": {},
   "outputs": [
    {
     "data": {
      "text/html": [
       "<div>\n",
       "<style scoped>\n",
       "    .dataframe tbody tr th:only-of-type {\n",
       "        vertical-align: middle;\n",
       "    }\n",
       "\n",
       "    .dataframe tbody tr th {\n",
       "        vertical-align: top;\n",
       "    }\n",
       "\n",
       "    .dataframe thead th {\n",
       "        text-align: right;\n",
       "    }\n",
       "</style>\n",
       "<table border=\"1\" class=\"dataframe\">\n",
       "  <thead>\n",
       "    <tr style=\"text-align: right;\">\n",
       "      <th></th>\n",
       "      <th>Id</th>\n",
       "      <th>MSSubClass</th>\n",
       "      <th>MSZoning</th>\n",
       "      <th>LotFrontage</th>\n",
       "      <th>LotArea</th>\n",
       "      <th>Street</th>\n",
       "      <th>Alley</th>\n",
       "      <th>LotShape</th>\n",
       "      <th>LandContour</th>\n",
       "      <th>Utilities</th>\n",
       "      <th>...</th>\n",
       "      <th>ScreenPorch</th>\n",
       "      <th>PoolArea</th>\n",
       "      <th>PoolQC</th>\n",
       "      <th>Fence</th>\n",
       "      <th>MiscFeature</th>\n",
       "      <th>MiscVal</th>\n",
       "      <th>MoSold</th>\n",
       "      <th>YrSold</th>\n",
       "      <th>SaleType</th>\n",
       "      <th>SaleCondition</th>\n",
       "    </tr>\n",
       "  </thead>\n",
       "  <tbody>\n",
       "    <tr>\n",
       "      <th>0</th>\n",
       "      <td>1</td>\n",
       "      <td>60</td>\n",
       "      <td>RL</td>\n",
       "      <td>65.0</td>\n",
       "      <td>8450</td>\n",
       "      <td>Pave</td>\n",
       "      <td>NaN</td>\n",
       "      <td>Reg</td>\n",
       "      <td>Lvl</td>\n",
       "      <td>AllPub</td>\n",
       "      <td>...</td>\n",
       "      <td>0</td>\n",
       "      <td>0</td>\n",
       "      <td>NaN</td>\n",
       "      <td>NaN</td>\n",
       "      <td>NaN</td>\n",
       "      <td>0</td>\n",
       "      <td>2</td>\n",
       "      <td>2008</td>\n",
       "      <td>WD</td>\n",
       "      <td>Normal</td>\n",
       "    </tr>\n",
       "    <tr>\n",
       "      <th>1</th>\n",
       "      <td>2</td>\n",
       "      <td>20</td>\n",
       "      <td>RL</td>\n",
       "      <td>80.0</td>\n",
       "      <td>9600</td>\n",
       "      <td>Pave</td>\n",
       "      <td>NaN</td>\n",
       "      <td>Reg</td>\n",
       "      <td>Lvl</td>\n",
       "      <td>AllPub</td>\n",
       "      <td>...</td>\n",
       "      <td>0</td>\n",
       "      <td>0</td>\n",
       "      <td>NaN</td>\n",
       "      <td>NaN</td>\n",
       "      <td>NaN</td>\n",
       "      <td>0</td>\n",
       "      <td>5</td>\n",
       "      <td>2007</td>\n",
       "      <td>WD</td>\n",
       "      <td>Normal</td>\n",
       "    </tr>\n",
       "    <tr>\n",
       "      <th>2</th>\n",
       "      <td>3</td>\n",
       "      <td>60</td>\n",
       "      <td>RL</td>\n",
       "      <td>68.0</td>\n",
       "      <td>11250</td>\n",
       "      <td>Pave</td>\n",
       "      <td>NaN</td>\n",
       "      <td>IR1</td>\n",
       "      <td>Lvl</td>\n",
       "      <td>AllPub</td>\n",
       "      <td>...</td>\n",
       "      <td>0</td>\n",
       "      <td>0</td>\n",
       "      <td>NaN</td>\n",
       "      <td>NaN</td>\n",
       "      <td>NaN</td>\n",
       "      <td>0</td>\n",
       "      <td>9</td>\n",
       "      <td>2008</td>\n",
       "      <td>WD</td>\n",
       "      <td>Normal</td>\n",
       "    </tr>\n",
       "    <tr>\n",
       "      <th>3</th>\n",
       "      <td>4</td>\n",
       "      <td>70</td>\n",
       "      <td>RL</td>\n",
       "      <td>60.0</td>\n",
       "      <td>9550</td>\n",
       "      <td>Pave</td>\n",
       "      <td>NaN</td>\n",
       "      <td>IR1</td>\n",
       "      <td>Lvl</td>\n",
       "      <td>AllPub</td>\n",
       "      <td>...</td>\n",
       "      <td>0</td>\n",
       "      <td>0</td>\n",
       "      <td>NaN</td>\n",
       "      <td>NaN</td>\n",
       "      <td>NaN</td>\n",
       "      <td>0</td>\n",
       "      <td>2</td>\n",
       "      <td>2006</td>\n",
       "      <td>WD</td>\n",
       "      <td>Abnorml</td>\n",
       "    </tr>\n",
       "    <tr>\n",
       "      <th>4</th>\n",
       "      <td>5</td>\n",
       "      <td>60</td>\n",
       "      <td>RL</td>\n",
       "      <td>84.0</td>\n",
       "      <td>14260</td>\n",
       "      <td>Pave</td>\n",
       "      <td>NaN</td>\n",
       "      <td>IR1</td>\n",
       "      <td>Lvl</td>\n",
       "      <td>AllPub</td>\n",
       "      <td>...</td>\n",
       "      <td>0</td>\n",
       "      <td>0</td>\n",
       "      <td>NaN</td>\n",
       "      <td>NaN</td>\n",
       "      <td>NaN</td>\n",
       "      <td>0</td>\n",
       "      <td>12</td>\n",
       "      <td>2008</td>\n",
       "      <td>WD</td>\n",
       "      <td>Normal</td>\n",
       "    </tr>\n",
       "  </tbody>\n",
       "</table>\n",
       "<p>5 rows × 80 columns</p>\n",
       "</div>"
      ],
      "text/plain": [
       "   Id  MSSubClass MSZoning  LotFrontage  LotArea Street Alley LotShape   \n",
       "0   1          60       RL         65.0     8450   Pave   NaN      Reg  \\\n",
       "1   2          20       RL         80.0     9600   Pave   NaN      Reg   \n",
       "2   3          60       RL         68.0    11250   Pave   NaN      IR1   \n",
       "3   4          70       RL         60.0     9550   Pave   NaN      IR1   \n",
       "4   5          60       RL         84.0    14260   Pave   NaN      IR1   \n",
       "\n",
       "  LandContour Utilities  ... ScreenPorch PoolArea PoolQC Fence MiscFeature   \n",
       "0         Lvl    AllPub  ...           0        0    NaN   NaN         NaN  \\\n",
       "1         Lvl    AllPub  ...           0        0    NaN   NaN         NaN   \n",
       "2         Lvl    AllPub  ...           0        0    NaN   NaN         NaN   \n",
       "3         Lvl    AllPub  ...           0        0    NaN   NaN         NaN   \n",
       "4         Lvl    AllPub  ...           0        0    NaN   NaN         NaN   \n",
       "\n",
       "  MiscVal MoSold  YrSold  SaleType  SaleCondition  \n",
       "0       0      2    2008        WD         Normal  \n",
       "1       0      5    2007        WD         Normal  \n",
       "2       0      9    2008        WD         Normal  \n",
       "3       0      2    2006        WD        Abnorml  \n",
       "4       0     12    2008        WD         Normal  \n",
       "\n",
       "[5 rows x 80 columns]"
      ]
     },
     "execution_count": 4,
     "metadata": {},
     "output_type": "execute_result"
    }
   ],
   "source": [
    "df.head()"
   ]
  },
  {
   "attachments": {},
   "cell_type": "markdown",
   "metadata": {},
   "source": [
    "### feature preparation"
   ]
  },
  {
   "cell_type": "code",
   "execution_count": 5,
   "metadata": {},
   "outputs": [
    {
     "data": {
      "text/plain": [
       "MSZoning           4\n",
       "LotFrontage      486\n",
       "Alley           2721\n",
       "Utilities          2\n",
       "Exterior1st        1\n",
       "Exterior2nd        1\n",
       "MasVnrType      1766\n",
       "MasVnrArea        23\n",
       "BsmtQual          81\n",
       "BsmtCond          82\n",
       "BsmtExposure      82\n",
       "BsmtFinType1      79\n",
       "BsmtFinSF1         1\n",
       "BsmtFinType2      80\n",
       "BsmtFinSF2         1\n",
       "BsmtUnfSF          1\n",
       "TotalBsmtSF        1\n",
       "Electrical         1\n",
       "BsmtFullBath       2\n",
       "BsmtHalfBath       2\n",
       "KitchenQual        1\n",
       "Functional         2\n",
       "FireplaceQu     1420\n",
       "GarageType       157\n",
       "GarageYrBlt      159\n",
       "GarageFinish     159\n",
       "GarageCars         1\n",
       "GarageArea         1\n",
       "GarageQual       159\n",
       "GarageCond       159\n",
       "PoolQC          2909\n",
       "Fence           2348\n",
       "MiscFeature     2814\n",
       "SaleType           1\n",
       "dtype: int64"
      ]
     },
     "execution_count": 5,
     "metadata": {},
     "output_type": "execute_result"
    }
   ],
   "source": [
    "null_value_stats = df.isnull().sum(axis=0)\n",
    "null_value_stats[null_value_stats != 0]"
   ]
  },
  {
   "cell_type": "code",
   "execution_count": 6,
   "metadata": {},
   "outputs": [],
   "source": [
    "df.fillna(-999, inplace=True)"
   ]
  },
  {
   "cell_type": "code",
   "execution_count": 7,
   "metadata": {},
   "outputs": [
    {
     "data": {
      "text/plain": [
       "Series([], dtype: int64)"
      ]
     },
     "execution_count": 7,
     "metadata": {},
     "output_type": "execute_result"
    }
   ],
   "source": [
    "null_value_stats = df.isnull().sum(axis=0)\n",
    "null_value_stats[null_value_stats != 0]"
   ]
  },
  {
   "cell_type": "code",
   "execution_count": 8,
   "metadata": {},
   "outputs": [
    {
     "data": {
      "text/plain": [
       "((1460, 79), (1459, 80))"
      ]
     },
     "execution_count": 8,
     "metadata": {},
     "output_type": "execute_result"
    }
   ],
   "source": [
    "df_train = df.loc[:ind_test,:].drop('Id', axis= 1)\n",
    "df_test = df.loc[ind_train:,:]\n",
    "\n",
    "df_train.shape, df_test.shape"
   ]
  },
  {
   "cell_type": "code",
   "execution_count": 9,
   "metadata": {},
   "outputs": [
    {
     "name": "stdout",
     "output_type": "stream",
     "text": [
      "MSSubClass         int64\n",
      "MSZoning          object\n",
      "LotFrontage      float64\n",
      "LotArea            int64\n",
      "Street            object\n",
      "                  ...   \n",
      "MiscVal            int64\n",
      "MoSold             int64\n",
      "YrSold             int64\n",
      "SaleType          object\n",
      "SaleCondition     object\n",
      "Length: 79, dtype: object\n"
     ]
    },
    {
     "data": {
      "text/plain": [
       "array([ 0,  1,  3,  4,  5,  6,  7,  8,  9, 10, 11, 12, 13, 14, 15, 16, 17,\n",
       "       18, 19, 20, 21, 22, 23, 24, 26, 27, 28, 29, 30, 31, 32, 34, 38, 39,\n",
       "       40, 41, 42, 43, 44, 45, 48, 49, 50, 51, 52, 53, 54, 55, 56, 57, 59,\n",
       "       62, 63, 64, 65, 66, 67, 68, 69, 70, 71, 72, 73, 74, 75, 76, 77, 78])"
      ]
     },
     "execution_count": 9,
     "metadata": {},
     "output_type": "execute_result"
    }
   ],
   "source": [
    "print(df_train.dtypes)\n",
    "\n",
    "categorical_features_indices = np.where(df_train.dtypes != float)[0]\n",
    "categorical_features_indices"
   ]
  },
  {
   "cell_type": "markdown",
   "metadata": {},
   "source": [
    "### Data Splitting"
   ]
  },
  {
   "cell_type": "code",
   "execution_count": 10,
   "metadata": {},
   "outputs": [
    {
     "data": {
      "text/plain": [
       "((1095, 79), (365, 79), (1095,), (365,))"
      ]
     },
     "execution_count": 10,
     "metadata": {},
     "output_type": "execute_result"
    }
   ],
   "source": [
    "from sklearn.model_selection import train_test_split\n",
    "\n",
    "X = df_train\n",
    "X_test = df_test.drop('Id',axis=1)\n",
    "\n",
    "X_train, X_validation, y_train, y_validation = train_test_split(X, y, train_size=0.75, random_state=42)\n",
    "X_train.shape, X_validation.shape, y_train.shape, y_validation.shape\n"
   ]
  },
  {
   "cell_type": "markdown",
   "metadata": {},
   "source": [
    "## CatBoost Basics"
   ]
  },
  {
   "cell_type": "code",
   "execution_count": 11,
   "metadata": {},
   "outputs": [],
   "source": [
    "from catboost import CatBoostRegressor, Pool, metrics, cv\n",
    "from sklearn.metrics import mean_squared_error"
   ]
  },
  {
   "cell_type": "markdown",
   "metadata": {},
   "source": [
    "### Model Training"
   ]
  },
  {
   "cell_type": "code",
   "execution_count": 12,
   "metadata": {},
   "outputs": [],
   "source": [
    "model = CatBoostRegressor(\n",
    "    loss_function='RMSE',\n",
    "    random_seed=42,\n",
    "    logging_level='Silent'\n",
    ")"
   ]
  },
  {
   "cell_type": "code",
   "execution_count": 13,
   "metadata": {},
   "outputs": [
    {
     "data": {
      "application/vnd.jupyter.widget-view+json": {
       "model_id": "6c745c58ff1248eaa74a11aac7624cf1",
       "version_major": 2,
       "version_minor": 0
      },
      "text/plain": [
       "MetricVisualizer(layout=Layout(align_self='stretch', height='500px'))"
      ]
     },
     "metadata": {},
     "output_type": "display_data"
    }
   ],
   "source": [
    "model.fit(\n",
    "    X_train, y_train,\n",
    "    cat_features=categorical_features_indices,\n",
    "    eval_set=(X_validation, y_validation),\n",
    "    plot=True\n",
    ");"
   ]
  },
  {
   "cell_type": "markdown",
   "metadata": {},
   "source": [
    "### Model Cross-Validation"
   ]
  },
  {
   "cell_type": "code",
   "execution_count": 14,
   "metadata": {},
   "outputs": [
    {
     "data": {
      "application/vnd.jupyter.widget-view+json": {
       "model_id": "4f29fd9171f34ed1ae7f82d370162b8d",
       "version_major": 2,
       "version_minor": 0
      },
      "text/plain": [
       "MetricVisualizer(layout=Layout(align_self='stretch', height='500px'))"
      ]
     },
     "metadata": {},
     "output_type": "display_data"
    }
   ],
   "source": [
    "cv_params = model.get_params()\n",
    "cv_params.update({\n",
    "    'loss_function': 'RMSE'\n",
    "})\n",
    "cv_data = cv(\n",
    "    Pool(X, y, cat_features=categorical_features_indices),\n",
    "    cv_params,\n",
    "    plot=True\n",
    ")"
   ]
  },
  {
   "cell_type": "code",
   "execution_count": 15,
   "metadata": {},
   "outputs": [
    {
     "name": "stdout",
     "output_type": "stream",
     "text": [
      "Best validation accuracy score: 0.1716±0.014 on step 999\n"
     ]
    }
   ],
   "source": [
    "print('Best validation accuracy score: {:.4f}±{:.3f} on step {}'.format(\n",
    "    np.min(cv_data['test-RMSE-mean']),\n",
    "    cv_data['test-RMSE-std'][np.argmin(cv_data['test-RMSE-mean'])],\n",
    "    np.argmin(cv_data['test-RMSE-mean'])\n",
    "))"
   ]
  },
  {
   "cell_type": "code",
   "execution_count": 16,
   "metadata": {},
   "outputs": [
    {
     "name": "stdout",
     "output_type": "stream",
     "text": [
      "Precise validation accuracy score: 0.1715679101864691\n"
     ]
    }
   ],
   "source": [
    "print('Precise validation accuracy score: {}'.format(np.min(cv_data['test-RMSE-mean'])))"
   ]
  },
  {
   "cell_type": "markdown",
   "metadata": {},
   "source": [
    "### Model Applying"
   ]
  },
  {
   "cell_type": "code",
   "execution_count": 17,
   "metadata": {},
   "outputs": [],
   "source": [
    "submission_baseline = pd.DataFrame()\n",
    "submission_baseline['Id'] = df_test['Id']\n",
    "submission_baseline ['SalePrice'] = np.exp(model.predict(X_test))"
   ]
  },
  {
   "cell_type": "code",
   "execution_count": 18,
   "metadata": {},
   "outputs": [],
   "source": [
    "# submission_baseline.to_csv('/Users/vasevooo/projects/house_prices/housing_kaggle/data/submission_baseline.csv', index=False)"
   ]
  },
  {
   "cell_type": "code",
   "execution_count": 19,
   "metadata": {},
   "outputs": [
    {
     "name": "stdout",
     "output_type": "stream",
     "text": [
      "train acc: 0.07741940218304316\n",
      "valid acc: 0.13523559769658716\n"
     ]
    }
   ],
   "source": [
    "print(\"train acc:\", mean_squared_error(y_train, model.predict(X_train), squared=False))\n",
    "print(\"valid acc:\", mean_squared_error(y_validation, model.predict(X_validation), squared=False))"
   ]
  },
  {
   "cell_type": "markdown",
   "metadata": {},
   "source": [
    "## CatBoost Features"
   ]
  },
  {
   "cell_type": "code",
   "execution_count": 20,
   "metadata": {},
   "outputs": [],
   "source": [
    "params = {\n",
    "    'iterations': 500,\n",
    "    'learning_rate': 0.1,\n",
    "    'eval_metric': 'RMSE',\n",
    "    'random_seed': 42,\n",
    "    'logging_level': 'Silent',\n",
    "    'use_best_model': False\n",
    "}\n",
    "train_pool = Pool(X_train, y_train, cat_features=categorical_features_indices)\n",
    "validate_pool = Pool(X_validation, y_validation, cat_features=categorical_features_indices)"
   ]
  },
  {
   "attachments": {},
   "cell_type": "markdown",
   "metadata": {},
   "source": [
    "### Using the best model"
   ]
  },
  {
   "cell_type": "code",
   "execution_count": 21,
   "metadata": {},
   "outputs": [
    {
     "name": "stdout",
     "output_type": "stream",
     "text": [
      "Simple model validation accuracy: 0.1394\n",
      "\n",
      "Best model validation accuracy: 0.1393\n"
     ]
    }
   ],
   "source": [
    "model = CatBoostRegressor(**params)\n",
    "model.fit(train_pool, eval_set=validate_pool)\n",
    "\n",
    "best_model_params = params.copy()\n",
    "best_model_params.update({\n",
    "    'use_best_model': True\n",
    "})\n",
    "best_model = CatBoostRegressor(**best_model_params)\n",
    "best_model.fit(train_pool, eval_set=validate_pool);\n",
    "\n",
    "print('Simple model validation accuracy: {:.4}'.format(\n",
    "    mean_squared_error(y_validation, model.predict(X_validation), squared=False)\n",
    "))\n",
    "print('')\n",
    "\n",
    "print('Best model validation accuracy: {:.4}'.format(\n",
    "    mean_squared_error(y_validation, best_model.predict(X_validation), squared=False)\n",
    "))"
   ]
  },
  {
   "cell_type": "markdown",
   "metadata": {},
   "source": [
    "### Early Stopping"
   ]
  },
  {
   "cell_type": "code",
   "execution_count": 22,
   "metadata": {},
   "outputs": [
    {
     "name": "stdout",
     "output_type": "stream",
     "text": [
      "CPU times: user 25.7 s, sys: 4.23 s, total: 29.9 s\n",
      "Wall time: 7.83 s\n"
     ]
    },
    {
     "data": {
      "text/plain": [
       "<catboost.core.CatBoostRegressor at 0x14f5b4490>"
      ]
     },
     "execution_count": 22,
     "metadata": {},
     "output_type": "execute_result"
    }
   ],
   "source": [
    "%%time\n",
    "model = CatBoostRegressor(**params)\n",
    "model.fit(train_pool, eval_set=validate_pool)"
   ]
  },
  {
   "cell_type": "code",
   "execution_count": 23,
   "metadata": {},
   "outputs": [
    {
     "name": "stdout",
     "output_type": "stream",
     "text": [
      "CPU times: user 20.6 s, sys: 3.46 s, total: 24.1 s\n",
      "Wall time: 5.61 s\n"
     ]
    }
   ],
   "source": [
    "%%time\n",
    "earlystop_params = params.copy()\n",
    "earlystop_params.update({\n",
    "    'od_type': 'Iter',\n",
    "    'od_wait': 40\n",
    "})\n",
    "earlystop_model = CatBoostRegressor(**earlystop_params)\n",
    "earlystop_model.fit(train_pool, eval_set=validate_pool);"
   ]
  },
  {
   "cell_type": "code",
   "execution_count": 24,
   "metadata": {},
   "outputs": [
    {
     "name": "stdout",
     "output_type": "stream",
     "text": [
      "Simple model tree count: 500\n",
      "Simple model validation accuracy: 0.1394\n",
      "\n",
      "Early-stopped model tree count: 409\n",
      "Early-stopped model validation accuracy: 0.1397\n"
     ]
    }
   ],
   "source": [
    "print('Simple model tree count: {}'.format(model.tree_count_))\n",
    "print('Simple model validation accuracy: {:.4}'.format(\n",
    "    mean_squared_error(y_validation, model.predict(X_validation), squared=False)\n",
    "))\n",
    "print('')\n",
    "\n",
    "print('Early-stopped model tree count: {}'.format(earlystop_model.tree_count_))\n",
    "print('Early-stopped model validation accuracy: {:.4}'.format(\n",
    "    mean_squared_error(y_validation, earlystop_model.predict(X_validation), squared=False)\n",
    "))"
   ]
  },
  {
   "cell_type": "markdown",
   "metadata": {},
   "source": [
    "### Using Baseline"
   ]
  },
  {
   "cell_type": "code",
   "execution_count": 25,
   "metadata": {},
   "outputs": [],
   "source": [
    "current_params = params.copy()\n",
    "current_params.update({\n",
    "    'iterations': 10\n",
    "})\n",
    "model = CatBoostRegressor(**current_params).fit(X_train, y_train, categorical_features_indices)\n",
    "# Get baseline (only with prediction_type='RawFormulaVal')\n",
    "baseline = model.predict(X_train, prediction_type='RawFormulaVal')\n",
    "# Fit new model\n",
    "model.fit(X_train, y_train, categorical_features_indices, baseline=baseline);"
   ]
  },
  {
   "cell_type": "markdown",
   "metadata": {},
   "source": [
    "### Snapshot Support"
   ]
  },
  {
   "cell_type": "code",
   "execution_count": 26,
   "metadata": {},
   "outputs": [
    {
     "name": "stdout",
     "output_type": "stream",
     "text": [
      "\n",
      "bestTest = 0.1572779214\n",
      "bestIteration = 34\n",
      "\n",
      "\n",
      "bestTest = 0.1572779214\n",
      "bestIteration = 34\n",
      "\n"
     ]
    }
   ],
   "source": [
    "params_with_snapshot = params.copy()\n",
    "params_with_snapshot.update({\n",
    "    'iterations': 50,\n",
    "    'learning_rate': 0.5,\n",
    "    'logging_level': 'Verbose'\n",
    "})\n",
    "model = CatBoostRegressor(**params_with_snapshot).fit(train_pool, eval_set=validate_pool, save_snapshot=True)\n",
    "params_with_snapshot.update({\n",
    "    'iterations': 100,\n",
    "    'learning_rate': 0.1,\n",
    "})\n",
    "model = CatBoostRegressor(**params_with_snapshot).fit(train_pool, eval_set=validate_pool, save_snapshot=True)"
   ]
  },
  {
   "attachments": {},
   "cell_type": "markdown",
   "metadata": {},
   "source": [
    "### Feature Importances"
   ]
  },
  {
   "cell_type": "code",
   "execution_count": 27,
   "metadata": {},
   "outputs": [
    {
     "name": "stdout",
     "output_type": "stream",
     "text": [
      "OverallQual: 12.820283405473697\n",
      "TotalBsmtSF: 5.790748460122556\n",
      "Neighborhood: 5.719308611704258\n",
      "ExterQual: 5.180685438748352\n",
      "FireplaceQu: 5.172588857397844\n",
      "TotRmsAbvGrd: 4.70432654082583\n",
      "Fireplaces: 4.0504581533253905\n",
      "GarageArea: 3.539415005810179\n",
      "BsmtFinSF1: 3.4864897330861333\n",
      "FullBath: 3.4668949913473828\n",
      "KitchenQual: 3.268796225695479\n",
      "BsmtQual: 3.251912162079809\n",
      "GarageCars: 3.0078851767579957\n",
      "MSSubClass: 2.388714011894593\n",
      "GarageFinish: 1.9778037845974157\n",
      "HeatingQC: 1.6995310086397997\n",
      "HalfBath: 1.594240820953803\n",
      "OverallCond: 1.471836402974526\n",
      "GarageQual: 1.349847081946364\n",
      "GarageCond: 1.32725390855051\n",
      "LotShape: 1.1707377471372036\n",
      "PavedDrive: 1.147164503192137\n",
      "CentralAir: 1.0937176975373222\n",
      "BedroomAbvGr: 1.0871058624769077\n",
      "GarageType: 1.0743862041742855\n",
      "PoolQC: 0.9417048264766691\n",
      "YearRemodAdd: 0.8562472467397516\n",
      "MSZoning: 0.8390541333926195\n",
      "SaleCondition: 0.7940709894739365\n",
      "HouseStyle: 0.7880550200006974\n",
      "BldgType: 0.7580650814558276\n",
      "GarageYrBlt: 0.7111929689294042\n",
      "Condition2: 0.6882045364248461\n",
      "BsmtExposure: 0.670088973928757\n",
      "LandContour: 0.6435140087967324\n",
      "Heating: 0.6118086748823939\n",
      "BsmtCond: 0.601078222542098\n",
      "Exterior1st: 0.555965473331298\n",
      "YearBuilt: 0.5479201535139092\n",
      "LotFrontage: 0.5298630197121557\n",
      "MoSold: 0.5031095181920603\n",
      "LotConfig: 0.4980450085168716\n",
      "Condition1: 0.4849039516347713\n",
      "KitchenAbvGr: 0.48408188368560273\n",
      "RoofStyle: 0.44324155936015114\n",
      "LandSlope: 0.4175197397113194\n",
      "BsmtFullBath: 0.3933857471673336\n",
      "ExterCond: 0.37046189013701664\n",
      "PoolArea: 0.35414301728700964\n",
      "Exterior2nd: 0.3519997331774133\n",
      "MasVnrType: 0.3146217888771117\n",
      "Fence: 0.30309798299980223\n",
      "BsmtFinType1: 0.26861527809950914\n",
      "Electrical: 0.2634102506052768\n",
      "2ndFlrSF: 0.24445151140044158\n",
      "WoodDeckSF: 0.2352826123122386\n",
      "BsmtFinType2: 0.23455008763523505\n",
      "SaleType: 0.2275268170000481\n",
      "ScreenPorch: 0.22082041683434098\n",
      "MasVnrArea: 0.2120462238647252\n",
      "BsmtFinSF2: 0.207276843954967\n",
      "Functional: 0.20351182492028716\n",
      "YrSold: 0.19476974319769133\n",
      "3SsnPorch: 0.16200991814273738\n",
      "BsmtUnfSF: 0.16049999541987026\n",
      "Foundation: 0.15978161310388833\n",
      "OpenPorchSF: 0.13701372838582102\n",
      "Alley: 0.13109875230628953\n",
      "EnclosedPorch: 0.12779115623593582\n",
      "MiscFeature: 0.10986405905122743\n",
      "1stFlrSF: 0.10736782871324688\n",
      "RoofMatl: 0.056421477573437316\n",
      "MiscVal: 0.029290040307678695\n",
      "LowQualFinSF: 0.008557368967049207\n",
      "Utilities: 0.0004655051707950315\n",
      "Street: 0.0\n",
      "LotArea: 0.0\n",
      "GrLivArea: 0.0\n",
      "BsmtHalfBath: 0.0\n"
     ]
    }
   ],
   "source": [
    "model = CatBoostRegressor(iterations=500, random_seed=42, logging_level='Silent').fit(train_pool)\n",
    "feature_importances = model.get_feature_importance(train_pool)\n",
    "feature_names = X_train.columns\n",
    "for score, name in sorted(zip(feature_importances, feature_names), reverse=True):\n",
    "    print('{}: {}'.format(name, score))"
   ]
  },
  {
   "cell_type": "markdown",
   "metadata": {},
   "source": [
    "### Eval Metrics"
   ]
  },
  {
   "cell_type": "code",
   "execution_count": 28,
   "metadata": {},
   "outputs": [
    {
     "data": {
      "application/vnd.jupyter.widget-view+json": {
       "model_id": "8c58c264caee44fea879b541ac53f784",
       "version_major": 2,
       "version_minor": 0
      },
      "text/plain": [
       "MetricVisualizer(layout=Layout(align_self='stretch', height='500px'))"
      ]
     },
     "metadata": {},
     "output_type": "display_data"
    }
   ],
   "source": [
    "model = CatBoostRegressor(iterations=500, random_seed=42, logging_level='Silent').fit(train_pool)\n",
    "eval_metrics = model.eval_metrics(validate_pool, 'RMSE', plot=True)"
   ]
  },
  {
   "cell_type": "markdown",
   "metadata": {},
   "source": [
    "### Learning Processes Comparison "
   ]
  },
  {
   "cell_type": "code",
   "execution_count": 29,
   "metadata": {},
   "outputs": [],
   "source": [
    "model1 = CatBoostRegressor(iterations=100, depth=1, train_dir='model_depth_1/', logging_level='Silent')\n",
    "model1.fit(train_pool, eval_set=validate_pool)\n",
    "model2 = CatBoostRegressor(iterations=100, depth=5, train_dir='model_depth_5/', logging_level='Silent')\n",
    "model2.fit(train_pool, eval_set=validate_pool);"
   ]
  },
  {
   "cell_type": "code",
   "execution_count": 30,
   "metadata": {},
   "outputs": [
    {
     "data": {
      "application/vnd.jupyter.widget-view+json": {
       "model_id": "b089dd8c67fc4d019d25237cc45d0993",
       "version_major": 2,
       "version_minor": 0
      },
      "text/plain": [
       "MetricVisualizer(layout=Layout(align_self='stretch', height='500px'))"
      ]
     },
     "metadata": {},
     "output_type": "display_data"
    }
   ],
   "source": [
    "from catboost import MetricVisualizer\n",
    "widget = MetricVisualizer(['model_depth_1', 'model_depth_5'])\n",
    "widget.start()"
   ]
  },
  {
   "cell_type": "markdown",
   "metadata": {},
   "source": [
    "### Model Saving"
   ]
  },
  {
   "cell_type": "code",
   "execution_count": 31,
   "metadata": {},
   "outputs": [],
   "source": [
    "model = CatBoostRegressor(iterations=10, random_seed=42, logging_level='Silent').fit(train_pool)\n",
    "model.save_model('catboost_model.dump')\n",
    "model = CatBoostRegressor()\n",
    "model.load_model('catboost_model.dump');"
   ]
  },
  {
   "attachments": {},
   "cell_type": "markdown",
   "metadata": {},
   "source": [
    "## Parameters Tuning"
   ]
  },
  {
   "cell_type": "code",
   "execution_count": 32,
   "metadata": {},
   "outputs": [],
   "source": [
    "import hyperopt\n",
    "\n",
    "def hyperopt_objective(params):\n",
    "    model = CatBoostRegressor(\n",
    "        l2_leaf_reg=int(params['l2_leaf_reg']),\n",
    "        learning_rate=params['learning_rate'],\n",
    "        iterations=500,\n",
    "        eval_metric='RMSE',\n",
    "        random_seed=42,\n",
    "        verbose=False,\n",
    "        loss_function='RMSE',\n",
    "    )\n",
    "    \n",
    "    cv_data = cv(\n",
    "        Pool(X, y, cat_features=categorical_features_indices),\n",
    "        model.get_params(),\n",
    "        logging_level='Silent',\n",
    "    )\n",
    "    best_error = np.min(cv_data['test-RMSE-mean'])\n",
    "    \n",
    "    return best_error # as hyperopt minimises"
   ]
  },
  {
   "cell_type": "code",
   "execution_count": 33,
   "metadata": {},
   "outputs": [
    {
     "name": "stdout",
     "output_type": "stream",
     "text": [
      " 42%|████▏     | 21/50 [10:11<14:04, 29.13s/trial, best loss: 0.17283827567468735]\n"
     ]
    },
    {
     "ename": "KeyboardInterrupt",
     "evalue": "",
     "output_type": "error",
     "traceback": [
      "\u001b[0;31m---------------------------------------------------------------------------\u001b[0m",
      "\u001b[0;31mKeyboardInterrupt\u001b[0m                         Traceback (most recent call last)",
      "Cell \u001b[0;32mIn[33], line 10\u001b[0m\n\u001b[1;32m      3\u001b[0m params_space \u001b[39m=\u001b[39m {\n\u001b[1;32m      4\u001b[0m     \u001b[39m'\u001b[39m\u001b[39ml2_leaf_reg\u001b[39m\u001b[39m'\u001b[39m: hyperopt\u001b[39m.\u001b[39mhp\u001b[39m.\u001b[39mqloguniform(\u001b[39m'\u001b[39m\u001b[39ml2_leaf_reg\u001b[39m\u001b[39m'\u001b[39m, \u001b[39m0\u001b[39m, \u001b[39m2\u001b[39m, \u001b[39m1\u001b[39m),\n\u001b[1;32m      5\u001b[0m     \u001b[39m'\u001b[39m\u001b[39mlearning_rate\u001b[39m\u001b[39m'\u001b[39m: hyperopt\u001b[39m.\u001b[39mhp\u001b[39m.\u001b[39muniform(\u001b[39m'\u001b[39m\u001b[39mlearning_rate\u001b[39m\u001b[39m'\u001b[39m, \u001b[39m0.01\u001b[39m, \u001b[39m0.5\u001b[39m),\n\u001b[1;32m      6\u001b[0m }\n\u001b[1;32m      8\u001b[0m trials \u001b[39m=\u001b[39m hyperopt\u001b[39m.\u001b[39mTrials()\n\u001b[0;32m---> 10\u001b[0m best \u001b[39m=\u001b[39m hyperopt\u001b[39m.\u001b[39;49mfmin(\n\u001b[1;32m     11\u001b[0m     hyperopt_objective,\n\u001b[1;32m     12\u001b[0m     space\u001b[39m=\u001b[39;49mparams_space,\n\u001b[1;32m     13\u001b[0m     algo\u001b[39m=\u001b[39;49mhyperopt\u001b[39m.\u001b[39;49mtpe\u001b[39m.\u001b[39;49msuggest,\n\u001b[1;32m     14\u001b[0m     max_evals\u001b[39m=\u001b[39;49m\u001b[39m50\u001b[39;49m,\n\u001b[1;32m     15\u001b[0m     trials\u001b[39m=\u001b[39;49mtrials,\n\u001b[1;32m     16\u001b[0m     \u001b[39m# rstate=123\u001b[39;49;00m\n\u001b[1;32m     17\u001b[0m )\n\u001b[1;32m     19\u001b[0m \u001b[39mprint\u001b[39m(best)\n",
      "File \u001b[0;32m~/projects/house_prices/housing_kaggle/env/lib/python3.9/site-packages/hyperopt/fmin.py:540\u001b[0m, in \u001b[0;36mfmin\u001b[0;34m(fn, space, algo, max_evals, timeout, loss_threshold, trials, rstate, allow_trials_fmin, pass_expr_memo_ctrl, catch_eval_exceptions, verbose, return_argmin, points_to_evaluate, max_queue_len, show_progressbar, early_stop_fn, trials_save_file)\u001b[0m\n\u001b[1;32m    537\u001b[0m     fn \u001b[39m=\u001b[39m __objective_fmin_wrapper(fn)\n\u001b[1;32m    539\u001b[0m \u001b[39mif\u001b[39;00m allow_trials_fmin \u001b[39mand\u001b[39;00m \u001b[39mhasattr\u001b[39m(trials, \u001b[39m\"\u001b[39m\u001b[39mfmin\u001b[39m\u001b[39m\"\u001b[39m):\n\u001b[0;32m--> 540\u001b[0m     \u001b[39mreturn\u001b[39;00m trials\u001b[39m.\u001b[39;49mfmin(\n\u001b[1;32m    541\u001b[0m         fn,\n\u001b[1;32m    542\u001b[0m         space,\n\u001b[1;32m    543\u001b[0m         algo\u001b[39m=\u001b[39;49malgo,\n\u001b[1;32m    544\u001b[0m         max_evals\u001b[39m=\u001b[39;49mmax_evals,\n\u001b[1;32m    545\u001b[0m         timeout\u001b[39m=\u001b[39;49mtimeout,\n\u001b[1;32m    546\u001b[0m         loss_threshold\u001b[39m=\u001b[39;49mloss_threshold,\n\u001b[1;32m    547\u001b[0m         max_queue_len\u001b[39m=\u001b[39;49mmax_queue_len,\n\u001b[1;32m    548\u001b[0m         rstate\u001b[39m=\u001b[39;49mrstate,\n\u001b[1;32m    549\u001b[0m         pass_expr_memo_ctrl\u001b[39m=\u001b[39;49mpass_expr_memo_ctrl,\n\u001b[1;32m    550\u001b[0m         verbose\u001b[39m=\u001b[39;49mverbose,\n\u001b[1;32m    551\u001b[0m         catch_eval_exceptions\u001b[39m=\u001b[39;49mcatch_eval_exceptions,\n\u001b[1;32m    552\u001b[0m         return_argmin\u001b[39m=\u001b[39;49mreturn_argmin,\n\u001b[1;32m    553\u001b[0m         show_progressbar\u001b[39m=\u001b[39;49mshow_progressbar,\n\u001b[1;32m    554\u001b[0m         early_stop_fn\u001b[39m=\u001b[39;49mearly_stop_fn,\n\u001b[1;32m    555\u001b[0m         trials_save_file\u001b[39m=\u001b[39;49mtrials_save_file,\n\u001b[1;32m    556\u001b[0m     )\n\u001b[1;32m    558\u001b[0m \u001b[39mif\u001b[39;00m trials \u001b[39mis\u001b[39;00m \u001b[39mNone\u001b[39;00m:\n\u001b[1;32m    559\u001b[0m     \u001b[39mif\u001b[39;00m os\u001b[39m.\u001b[39mpath\u001b[39m.\u001b[39mexists(trials_save_file):\n",
      "File \u001b[0;32m~/projects/house_prices/housing_kaggle/env/lib/python3.9/site-packages/hyperopt/base.py:671\u001b[0m, in \u001b[0;36mTrials.fmin\u001b[0;34m(self, fn, space, algo, max_evals, timeout, loss_threshold, max_queue_len, rstate, verbose, pass_expr_memo_ctrl, catch_eval_exceptions, return_argmin, show_progressbar, early_stop_fn, trials_save_file)\u001b[0m\n\u001b[1;32m    666\u001b[0m \u001b[39m# -- Stop-gap implementation!\u001b[39;00m\n\u001b[1;32m    667\u001b[0m \u001b[39m#    fmin should have been a Trials method in the first place\u001b[39;00m\n\u001b[1;32m    668\u001b[0m \u001b[39m#    but for now it's still sitting in another file.\u001b[39;00m\n\u001b[1;32m    669\u001b[0m \u001b[39mfrom\u001b[39;00m \u001b[39m.\u001b[39;00m\u001b[39mfmin\u001b[39;00m \u001b[39mimport\u001b[39;00m fmin\n\u001b[0;32m--> 671\u001b[0m \u001b[39mreturn\u001b[39;00m fmin(\n\u001b[1;32m    672\u001b[0m     fn,\n\u001b[1;32m    673\u001b[0m     space,\n\u001b[1;32m    674\u001b[0m     algo\u001b[39m=\u001b[39;49malgo,\n\u001b[1;32m    675\u001b[0m     max_evals\u001b[39m=\u001b[39;49mmax_evals,\n\u001b[1;32m    676\u001b[0m     timeout\u001b[39m=\u001b[39;49mtimeout,\n\u001b[1;32m    677\u001b[0m     loss_threshold\u001b[39m=\u001b[39;49mloss_threshold,\n\u001b[1;32m    678\u001b[0m     trials\u001b[39m=\u001b[39;49m\u001b[39mself\u001b[39;49m,\n\u001b[1;32m    679\u001b[0m     rstate\u001b[39m=\u001b[39;49mrstate,\n\u001b[1;32m    680\u001b[0m     verbose\u001b[39m=\u001b[39;49mverbose,\n\u001b[1;32m    681\u001b[0m     max_queue_len\u001b[39m=\u001b[39;49mmax_queue_len,\n\u001b[1;32m    682\u001b[0m     allow_trials_fmin\u001b[39m=\u001b[39;49m\u001b[39mFalse\u001b[39;49;00m,  \u001b[39m# -- prevent recursion\u001b[39;49;00m\n\u001b[1;32m    683\u001b[0m     pass_expr_memo_ctrl\u001b[39m=\u001b[39;49mpass_expr_memo_ctrl,\n\u001b[1;32m    684\u001b[0m     catch_eval_exceptions\u001b[39m=\u001b[39;49mcatch_eval_exceptions,\n\u001b[1;32m    685\u001b[0m     return_argmin\u001b[39m=\u001b[39;49mreturn_argmin,\n\u001b[1;32m    686\u001b[0m     show_progressbar\u001b[39m=\u001b[39;49mshow_progressbar,\n\u001b[1;32m    687\u001b[0m     early_stop_fn\u001b[39m=\u001b[39;49mearly_stop_fn,\n\u001b[1;32m    688\u001b[0m     trials_save_file\u001b[39m=\u001b[39;49mtrials_save_file,\n\u001b[1;32m    689\u001b[0m )\n",
      "File \u001b[0;32m~/projects/house_prices/housing_kaggle/env/lib/python3.9/site-packages/hyperopt/fmin.py:586\u001b[0m, in \u001b[0;36mfmin\u001b[0;34m(fn, space, algo, max_evals, timeout, loss_threshold, trials, rstate, allow_trials_fmin, pass_expr_memo_ctrl, catch_eval_exceptions, verbose, return_argmin, points_to_evaluate, max_queue_len, show_progressbar, early_stop_fn, trials_save_file)\u001b[0m\n\u001b[1;32m    583\u001b[0m rval\u001b[39m.\u001b[39mcatch_eval_exceptions \u001b[39m=\u001b[39m catch_eval_exceptions\n\u001b[1;32m    585\u001b[0m \u001b[39m# next line is where the fmin is actually executed\u001b[39;00m\n\u001b[0;32m--> 586\u001b[0m rval\u001b[39m.\u001b[39;49mexhaust()\n\u001b[1;32m    588\u001b[0m \u001b[39mif\u001b[39;00m return_argmin:\n\u001b[1;32m    589\u001b[0m     \u001b[39mif\u001b[39;00m \u001b[39mlen\u001b[39m(trials\u001b[39m.\u001b[39mtrials) \u001b[39m==\u001b[39m \u001b[39m0\u001b[39m:\n",
      "File \u001b[0;32m~/projects/house_prices/housing_kaggle/env/lib/python3.9/site-packages/hyperopt/fmin.py:364\u001b[0m, in \u001b[0;36mFMinIter.exhaust\u001b[0;34m(self)\u001b[0m\n\u001b[1;32m    362\u001b[0m \u001b[39mdef\u001b[39;00m \u001b[39mexhaust\u001b[39m(\u001b[39mself\u001b[39m):\n\u001b[1;32m    363\u001b[0m     n_done \u001b[39m=\u001b[39m \u001b[39mlen\u001b[39m(\u001b[39mself\u001b[39m\u001b[39m.\u001b[39mtrials)\n\u001b[0;32m--> 364\u001b[0m     \u001b[39mself\u001b[39;49m\u001b[39m.\u001b[39;49mrun(\u001b[39mself\u001b[39;49m\u001b[39m.\u001b[39;49mmax_evals \u001b[39m-\u001b[39;49m n_done, block_until_done\u001b[39m=\u001b[39;49m\u001b[39mself\u001b[39;49m\u001b[39m.\u001b[39;49masynchronous)\n\u001b[1;32m    365\u001b[0m     \u001b[39mself\u001b[39m\u001b[39m.\u001b[39mtrials\u001b[39m.\u001b[39mrefresh()\n\u001b[1;32m    366\u001b[0m     \u001b[39mreturn\u001b[39;00m \u001b[39mself\u001b[39m\n",
      "File \u001b[0;32m~/projects/house_prices/housing_kaggle/env/lib/python3.9/site-packages/hyperopt/fmin.py:300\u001b[0m, in \u001b[0;36mFMinIter.run\u001b[0;34m(self, N, block_until_done)\u001b[0m\n\u001b[1;32m    297\u001b[0m     time\u001b[39m.\u001b[39msleep(\u001b[39mself\u001b[39m\u001b[39m.\u001b[39mpoll_interval_secs)\n\u001b[1;32m    298\u001b[0m \u001b[39melse\u001b[39;00m:\n\u001b[1;32m    299\u001b[0m     \u001b[39m# -- loop over trials and do the jobs directly\u001b[39;00m\n\u001b[0;32m--> 300\u001b[0m     \u001b[39mself\u001b[39;49m\u001b[39m.\u001b[39;49mserial_evaluate()\n\u001b[1;32m    302\u001b[0m \u001b[39mself\u001b[39m\u001b[39m.\u001b[39mtrials\u001b[39m.\u001b[39mrefresh()\n\u001b[1;32m    303\u001b[0m \u001b[39mif\u001b[39;00m \u001b[39mself\u001b[39m\u001b[39m.\u001b[39mtrials_save_file \u001b[39m!=\u001b[39m \u001b[39m\"\u001b[39m\u001b[39m\"\u001b[39m:\n",
      "File \u001b[0;32m~/projects/house_prices/housing_kaggle/env/lib/python3.9/site-packages/hyperopt/fmin.py:178\u001b[0m, in \u001b[0;36mFMinIter.serial_evaluate\u001b[0;34m(self, N)\u001b[0m\n\u001b[1;32m    176\u001b[0m ctrl \u001b[39m=\u001b[39m base\u001b[39m.\u001b[39mCtrl(\u001b[39mself\u001b[39m\u001b[39m.\u001b[39mtrials, current_trial\u001b[39m=\u001b[39mtrial)\n\u001b[1;32m    177\u001b[0m \u001b[39mtry\u001b[39;00m:\n\u001b[0;32m--> 178\u001b[0m     result \u001b[39m=\u001b[39m \u001b[39mself\u001b[39;49m\u001b[39m.\u001b[39;49mdomain\u001b[39m.\u001b[39;49mevaluate(spec, ctrl)\n\u001b[1;32m    179\u001b[0m \u001b[39mexcept\u001b[39;00m \u001b[39mException\u001b[39;00m \u001b[39mas\u001b[39;00m e:\n\u001b[1;32m    180\u001b[0m     logger\u001b[39m.\u001b[39merror(\u001b[39m\"\u001b[39m\u001b[39mjob exception: \u001b[39m\u001b[39m%s\u001b[39;00m\u001b[39m\"\u001b[39m \u001b[39m%\u001b[39m \u001b[39mstr\u001b[39m(e))\n",
      "File \u001b[0;32m~/projects/house_prices/housing_kaggle/env/lib/python3.9/site-packages/hyperopt/base.py:892\u001b[0m, in \u001b[0;36mDomain.evaluate\u001b[0;34m(self, config, ctrl, attach_attachments)\u001b[0m\n\u001b[1;32m    883\u001b[0m \u001b[39melse\u001b[39;00m:\n\u001b[1;32m    884\u001b[0m     \u001b[39m# -- the \"work\" of evaluating `config` can be written\u001b[39;00m\n\u001b[1;32m    885\u001b[0m     \u001b[39m#    either into the pyll part (self.expr)\u001b[39;00m\n\u001b[1;32m    886\u001b[0m     \u001b[39m#    or the normal Python part (self.fn)\u001b[39;00m\n\u001b[1;32m    887\u001b[0m     pyll_rval \u001b[39m=\u001b[39m pyll\u001b[39m.\u001b[39mrec_eval(\n\u001b[1;32m    888\u001b[0m         \u001b[39mself\u001b[39m\u001b[39m.\u001b[39mexpr,\n\u001b[1;32m    889\u001b[0m         memo\u001b[39m=\u001b[39mmemo,\n\u001b[1;32m    890\u001b[0m         print_node_on_error\u001b[39m=\u001b[39m\u001b[39mself\u001b[39m\u001b[39m.\u001b[39mrec_eval_print_node_on_error,\n\u001b[1;32m    891\u001b[0m     )\n\u001b[0;32m--> 892\u001b[0m     rval \u001b[39m=\u001b[39m \u001b[39mself\u001b[39;49m\u001b[39m.\u001b[39;49mfn(pyll_rval)\n\u001b[1;32m    894\u001b[0m \u001b[39mif\u001b[39;00m \u001b[39misinstance\u001b[39m(rval, (\u001b[39mfloat\u001b[39m, \u001b[39mint\u001b[39m, np\u001b[39m.\u001b[39mnumber)):\n\u001b[1;32m    895\u001b[0m     dict_rval \u001b[39m=\u001b[39m {\u001b[39m\"\u001b[39m\u001b[39mloss\u001b[39m\u001b[39m\"\u001b[39m: \u001b[39mfloat\u001b[39m(rval), \u001b[39m\"\u001b[39m\u001b[39mstatus\u001b[39m\u001b[39m\"\u001b[39m: STATUS_OK}\n",
      "Cell \u001b[0;32mIn[32], line 14\u001b[0m, in \u001b[0;36mhyperopt_objective\u001b[0;34m(params)\u001b[0m\n\u001b[1;32m      3\u001b[0m \u001b[39mdef\u001b[39;00m \u001b[39mhyperopt_objective\u001b[39m(params):\n\u001b[1;32m      4\u001b[0m     model \u001b[39m=\u001b[39m CatBoostRegressor(\n\u001b[1;32m      5\u001b[0m         l2_leaf_reg\u001b[39m=\u001b[39m\u001b[39mint\u001b[39m(params[\u001b[39m'\u001b[39m\u001b[39ml2_leaf_reg\u001b[39m\u001b[39m'\u001b[39m]),\n\u001b[1;32m      6\u001b[0m         learning_rate\u001b[39m=\u001b[39mparams[\u001b[39m'\u001b[39m\u001b[39mlearning_rate\u001b[39m\u001b[39m'\u001b[39m],\n\u001b[0;32m   (...)\u001b[0m\n\u001b[1;32m     11\u001b[0m         loss_function\u001b[39m=\u001b[39m\u001b[39m'\u001b[39m\u001b[39mRMSE\u001b[39m\u001b[39m'\u001b[39m,\n\u001b[1;32m     12\u001b[0m     )\n\u001b[0;32m---> 14\u001b[0m     cv_data \u001b[39m=\u001b[39m cv(\n\u001b[1;32m     15\u001b[0m         Pool(X, y, cat_features\u001b[39m=\u001b[39;49mcategorical_features_indices),\n\u001b[1;32m     16\u001b[0m         model\u001b[39m.\u001b[39;49mget_params(),\n\u001b[1;32m     17\u001b[0m         logging_level\u001b[39m=\u001b[39;49m\u001b[39m'\u001b[39;49m\u001b[39mSilent\u001b[39;49m\u001b[39m'\u001b[39;49m,\n\u001b[1;32m     18\u001b[0m     )\n\u001b[1;32m     19\u001b[0m     best_error \u001b[39m=\u001b[39m np\u001b[39m.\u001b[39mmin(cv_data[\u001b[39m'\u001b[39m\u001b[39mtest-RMSE-mean\u001b[39m\u001b[39m'\u001b[39m])\n\u001b[1;32m     21\u001b[0m     \u001b[39mreturn\u001b[39;00m best_error\n",
      "File \u001b[0;32m~/projects/house_prices/housing_kaggle/env/lib/python3.9/site-packages/catboost/core.py:6655\u001b[0m, in \u001b[0;36mcv\u001b[0;34m(pool, params, dtrain, iterations, num_boost_round, fold_count, nfold, inverted, partition_random_seed, seed, shuffle, logging_level, stratified, as_pandas, metric_period, verbose, verbose_eval, plot, plot_file, early_stopping_rounds, save_snapshot, snapshot_file, snapshot_interval, metric_update_interval, folds, type, return_models, log_cout, log_cerr)\u001b[0m\n\u001b[1;32m   6653\u001b[0m \u001b[39mwith\u001b[39;00m log_fixup(log_cout, log_cerr), plot_wrapper(plot, plot_file\u001b[39m=\u001b[39mplot_file, plot_title\u001b[39m=\u001b[39m\u001b[39m'\u001b[39m\u001b[39mCross-validation plot\u001b[39m\u001b[39m'\u001b[39m, train_dirs\u001b[39m=\u001b[39mplot_dirs):\n\u001b[1;32m   6654\u001b[0m     \u001b[39mif\u001b[39;00m \u001b[39mnot\u001b[39;00m return_models:\n\u001b[0;32m-> 6655\u001b[0m         \u001b[39mreturn\u001b[39;00m _cv(params, pool, fold_count, inverted, partition_random_seed, shuffle, stratified,\n\u001b[1;32m   6656\u001b[0m                 metric_update_interval, as_pandas, folds, \u001b[39mtype\u001b[39;49m, return_models)\n\u001b[1;32m   6657\u001b[0m     \u001b[39melse\u001b[39;00m:\n\u001b[1;32m   6658\u001b[0m         results, cv_models \u001b[39m=\u001b[39m _cv(params, pool, fold_count, inverted, partition_random_seed, shuffle, stratified,\n\u001b[1;32m   6659\u001b[0m                                  metric_update_interval, as_pandas, folds, \u001b[39mtype\u001b[39m, return_models)\n",
      "File \u001b[0;32m_catboost.pyx:5497\u001b[0m, in \u001b[0;36m_catboost._cv\u001b[0;34m()\u001b[0m\n",
      "File \u001b[0;32m_catboost.pyx:5529\u001b[0m, in \u001b[0;36m_catboost._cv\u001b[0;34m()\u001b[0m\n",
      "\u001b[0;31mKeyboardInterrupt\u001b[0m: "
     ]
    }
   ],
   "source": [
    "from numpy.random import RandomState\n",
    "\n",
    "params_space = {\n",
    "    'l2_leaf_reg': hyperopt.hp.qloguniform('l2_leaf_reg', 0, 2, 1),\n",
    "    'learning_rate': hyperopt.hp.uniform('learning_rate', 0.01, 0.5),\n",
    "}\n",
    "\n",
    "trials = hyperopt.Trials()\n",
    "\n",
    "best = hyperopt.fmin(\n",
    "    hyperopt_objective,\n",
    "    space=params_space,\n",
    "    algo=hyperopt.tpe.suggest,\n",
    "    max_evals=50,\n",
    "    trials=trials,\n",
    "    # rstate=123\n",
    ")\n",
    "\n",
    "print(best)"
   ]
  },
  {
   "cell_type": "code",
   "execution_count": 34,
   "metadata": {},
   "outputs": [
    {
     "ename": "NameError",
     "evalue": "name 'best' is not defined",
     "output_type": "error",
     "traceback": [
      "\u001b[0;31m---------------------------------------------------------------------------\u001b[0m",
      "\u001b[0;31mNameError\u001b[0m                                 Traceback (most recent call last)",
      "Cell \u001b[0;32mIn[34], line 2\u001b[0m\n\u001b[1;32m      1\u001b[0m model \u001b[39m=\u001b[39m CatBoostRegressor(\n\u001b[0;32m----> 2\u001b[0m     l2_leaf_reg\u001b[39m=\u001b[39m\u001b[39mint\u001b[39m(best[\u001b[39m'\u001b[39m\u001b[39ml2_leaf_reg\u001b[39m\u001b[39m'\u001b[39m]),\n\u001b[1;32m      3\u001b[0m     learning_rate\u001b[39m=\u001b[39mbest[\u001b[39m'\u001b[39m\u001b[39mlearning_rate\u001b[39m\u001b[39m'\u001b[39m],\n\u001b[1;32m      4\u001b[0m     iterations\u001b[39m=\u001b[39m\u001b[39m500\u001b[39m,\n\u001b[1;32m      5\u001b[0m     eval_metric\u001b[39m=\u001b[39m\u001b[39m'\u001b[39m\u001b[39mRMSE\u001b[39m\u001b[39m'\u001b[39m,\n\u001b[1;32m      6\u001b[0m     random_seed\u001b[39m=\u001b[39m\u001b[39m42\u001b[39m,\n\u001b[1;32m      7\u001b[0m     verbose\u001b[39m=\u001b[39m\u001b[39mFalse\u001b[39;00m,\n\u001b[1;32m      8\u001b[0m     loss_function\u001b[39m=\u001b[39m\u001b[39m'\u001b[39m\u001b[39mRMSE\u001b[39m\u001b[39m'\u001b[39m,\n\u001b[1;32m      9\u001b[0m )\n\u001b[1;32m     10\u001b[0m cv_data \u001b[39m=\u001b[39m cv(Pool(X, y, cat_features\u001b[39m=\u001b[39mcategorical_features_indices), model\u001b[39m.\u001b[39mget_params())\n",
      "\u001b[0;31mNameError\u001b[0m: name 'best' is not defined"
     ]
    }
   ],
   "source": [
    "model = CatBoostRegressor(\n",
    "    l2_leaf_reg=int(best['l2_leaf_reg']),\n",
    "    learning_rate=best['learning_rate'],\n",
    "    iterations=500,\n",
    "    eval_metric='RMSE',\n",
    "    random_seed=42,\n",
    "    verbose=False,\n",
    "    loss_function='RMSE',\n",
    ")\n",
    "cv_data = cv(Pool(X, y, cat_features=categorical_features_indices), model.get_params())"
   ]
  },
  {
   "cell_type": "code",
   "execution_count": null,
   "metadata": {},
   "outputs": [
    {
     "name": "stdout",
     "output_type": "stream",
     "text": [
      "Precise validation RMSE score: 0.16386573950333302\n"
     ]
    }
   ],
   "source": [
    "print('Precise validation RMSE score: {}'.format(np.min(cv_data['test-RMSE-mean'])))"
   ]
  },
  {
   "attachments": {},
   "cell_type": "markdown",
   "metadata": {},
   "source": [
    "## Grid Search"
   ]
  },
  {
   "cell_type": "markdown",
   "metadata": {},
   "source": [
    "### Simple grid search"
   ]
  },
  {
   "cell_type": "code",
   "execution_count": 35,
   "metadata": {},
   "outputs": [],
   "source": [
    "model = CatBoostRegressor(\n",
    "    eval_metric='RMSE',\n",
    "    random_seed=42,\n",
    "    verbose=False,\n",
    "    loss_function='RMSE')"
   ]
  },
  {
   "cell_type": "code",
   "execution_count": 36,
   "metadata": {},
   "outputs": [
    {
     "data": {
      "application/vnd.jupyter.widget-view+json": {
       "model_id": "5f82d96371af45a9ac4cf62436ac4cd4",
       "version_major": 2,
       "version_minor": 0
      },
      "text/plain": [
       "MetricVisualizer(layout=Layout(align_self='stretch', height='500px'))"
      ]
     },
     "metadata": {},
     "output_type": "display_data"
    },
    {
     "name": "stdout",
     "output_type": "stream",
     "text": [
      "\n",
      "bestTest = 7.308193184\n",
      "bestIteration = 49\n",
      "\n",
      "0:\tloss: 7.3081932\tbest: 7.3081932 (0)\ttotal: 93.2ms\tremaining: 9.97s\n",
      "\n",
      "bestTest = 0.9999062959\n",
      "bestIteration = 49\n",
      "\n",
      "\n",
      "bestTest = 0.2181508862\n",
      "bestIteration = 49\n",
      "\n",
      "\n",
      "bestTest = 7.32156386\n",
      "bestIteration = 49\n",
      "\n",
      "3:\tloss: 7.3215639\tbest: 0.2181509 (2)\ttotal: 244ms\tremaining: 6.34s\n",
      "\n",
      "bestTest = 1.008326419\n",
      "bestIteration = 49\n",
      "\n",
      "\n",
      "bestTest = 0.2245610796\n",
      "bestIteration = 49\n",
      "\n",
      "\n",
      "bestTest = 7.334355487\n",
      "bestIteration = 49\n",
      "\n",
      "6:\tloss: 7.3343555\tbest: 0.2181509 (2)\ttotal: 379ms\tremaining: 5.46s\n",
      "\n",
      "bestTest = 1.016274016\n",
      "bestIteration = 49\n",
      "\n",
      "\n",
      "bestTest = 0.2358990745\n",
      "bestIteration = 49\n",
      "\n",
      "\n",
      "bestTest = 4.438651491\n",
      "bestIteration = 99\n",
      "\n",
      "9:\tloss: 4.4386515\tbest: 0.2181509 (2)\ttotal: 560ms\tremaining: 5.48s\n",
      "\n",
      "bestTest = 0.2176611756\n",
      "bestIteration = 99\n",
      "\n",
      "\n",
      "bestTest = 0.1572959333\n",
      "bestIteration = 99\n",
      "\n",
      "\n",
      "bestTest = 4.453932911\n",
      "bestIteration = 99\n",
      "\n",
      "12:\tloss: 4.4539329\tbest: 0.1572959 (11)\ttotal: 827ms\tremaining: 6.04s\n",
      "\n",
      "bestTest = 0.2238350822\n",
      "bestIteration = 99\n",
      "\n",
      "\n",
      "bestTest = 0.1627473452\n",
      "bestIteration = 99\n",
      "\n",
      "\n",
      "bestTest = 4.469547137\n",
      "bestIteration = 99\n",
      "\n",
      "15:\tloss: 4.4695471\tbest: 0.1572959 (11)\ttotal: 1.12s\tremaining: 6.42s\n",
      "\n",
      "bestTest = 0.2287281666\n",
      "bestIteration = 99\n",
      "\n",
      "\n",
      "bestTest = 0.1738845859\n",
      "bestIteration = 99\n",
      "\n",
      "\n",
      "bestTest = 0.2253439539\n",
      "bestIteration = 499\n",
      "\n",
      "18:\tloss: 0.2253440\tbest: 0.1572959 (11)\ttotal: 1.76s\tremaining: 8.23s\n",
      "\n",
      "bestTest = 0.1457624417\n",
      "bestIteration = 466\n",
      "\n",
      "\n",
      "bestTest = 0.1430508017\n",
      "bestIteration = 330\n",
      "\n",
      "\n",
      "bestTest = 0.2267595703\n",
      "bestIteration = 499\n",
      "\n",
      "21:\tloss: 0.2267596\tbest: 0.1430508 (20)\ttotal: 2.89s\tremaining: 11.3s\n",
      "\n",
      "bestTest = 0.1488210033\n",
      "bestIteration = 475\n",
      "\n",
      "\n",
      "bestTest = 0.1424248155\n",
      "bestIteration = 484\n",
      "\n",
      "\n",
      "bestTest = 0.2276474392\n",
      "bestIteration = 499\n",
      "\n",
      "24:\tloss: 0.2276474\tbest: 0.1424248 (23)\ttotal: 4.07s\tremaining: 13.5s\n",
      "\n",
      "bestTest = 0.1502100278\n",
      "bestIteration = 499\n",
      "\n",
      "\n",
      "bestTest = 0.1498427872\n",
      "bestIteration = 465\n",
      "\n",
      "\n",
      "bestTest = 0.155512225\n",
      "bestIteration = 999\n",
      "\n",
      "27:\tloss: 0.1555122\tbest: 0.1424248 (23)\ttotal: 5.57s\tremaining: 15.9s\n",
      "\n",
      "bestTest = 0.1448942715\n",
      "bestIteration = 887\n",
      "\n",
      "\n",
      "bestTest = 0.1430508017\n",
      "bestIteration = 330\n",
      "\n",
      "\n",
      "bestTest = 0.1573569276\n",
      "bestIteration = 999\n",
      "\n",
      "30:\tloss: 0.1573569\tbest: 0.1424248 (23)\ttotal: 7.9s\tremaining: 19.6s\n",
      "\n",
      "bestTest = 0.1462302721\n",
      "bestIteration = 718\n",
      "\n",
      "\n",
      "bestTest = 0.1415468332\n",
      "bestIteration = 639\n",
      "\n",
      "\n",
      "bestTest = 0.158730772\n",
      "bestIteration = 999\n",
      "\n",
      "33:\tloss: 0.1587308\tbest: 0.1415468 (32)\ttotal: 10.4s\tremaining: 22.6s\n",
      "\n",
      "bestTest = 0.1472674569\n",
      "bestIteration = 803\n",
      "\n",
      "\n",
      "bestTest = 0.1470287053\n",
      "bestIteration = 772\n",
      "\n",
      "\n",
      "bestTest = 7.309303093\n",
      "bestIteration = 49\n",
      "\n",
      "36:\tloss: 7.3093031\tbest: 0.1415468 (32)\ttotal: 12.1s\tremaining: 23.2s\n",
      "\n",
      "bestTest = 0.9832495242\n",
      "bestIteration = 49\n",
      "\n",
      "\n",
      "bestTest = 0.204515294\n",
      "bestIteration = 49\n",
      "\n",
      "\n",
      "bestTest = 7.328926633\n",
      "bestIteration = 49\n",
      "\n",
      "39:\tloss: 7.3289266\tbest: 0.1415468 (32)\ttotal: 12.3s\tremaining: 21s\n",
      "\n",
      "bestTest = 0.9932640883\n",
      "bestIteration = 49\n",
      "\n",
      "\n",
      "bestTest = 0.2061248642\n",
      "bestIteration = 49\n",
      "\n",
      "\n",
      "bestTest = 7.34755472\n",
      "bestIteration = 49\n",
      "\n",
      "42:\tloss: 7.3475547\tbest: 0.1415468 (32)\ttotal: 12.6s\tremaining: 19s\n",
      "\n",
      "bestTest = 1.004273802\n",
      "bestIteration = 49\n",
      "\n",
      "\n",
      "bestTest = 0.21553458\n",
      "bestIteration = 49\n",
      "\n",
      "\n",
      "bestTest = 4.443110133\n",
      "bestIteration = 99\n",
      "\n",
      "45:\tloss: 4.4431101\tbest: 0.1415468 (32)\ttotal: 12.8s\tremaining: 17.3s\n",
      "\n",
      "bestTest = 0.2052677991\n",
      "bestIteration = 99\n",
      "\n",
      "\n",
      "bestTest = 0.1499467201\n",
      "bestIteration = 99\n",
      "\n",
      "\n",
      "bestTest = 4.465736635\n",
      "bestIteration = 99\n",
      "\n",
      "48:\tloss: 4.4657366\tbest: 0.1415468 (32)\ttotal: 13.3s\tremaining: 16s\n",
      "\n",
      "bestTest = 0.2112236888\n",
      "bestIteration = 99\n",
      "\n",
      "\n",
      "bestTest = 0.1614900191\n",
      "bestIteration = 99\n",
      "\n",
      "\n",
      "bestTest = 4.488365525\n",
      "bestIteration = 99\n",
      "\n",
      "51:\tloss: 4.4883655\tbest: 0.1415468 (32)\ttotal: 13.7s\tremaining: 14.7s\n",
      "\n",
      "bestTest = 0.2143373205\n",
      "bestIteration = 99\n",
      "\n",
      "\n",
      "bestTest = 0.1746089595\n",
      "bestIteration = 99\n",
      "\n",
      "\n",
      "bestTest = 0.2123114769\n",
      "bestIteration = 499\n",
      "\n",
      "54:\tloss: 0.2123115\tbest: 0.1415468 (32)\ttotal: 15.5s\tremaining: 14.9s\n",
      "\n",
      "bestTest = 0.1415948913\n",
      "bestIteration = 497\n",
      "\n",
      "\n",
      "bestTest = 0.1403566583\n",
      "bestIteration = 499\n",
      "\n",
      "\n",
      "bestTest = 0.2147523839\n",
      "bestIteration = 499\n",
      "\n",
      "57:\tloss: 0.2147524\tbest: 0.1403567 (56)\ttotal: 19.8s\tremaining: 17.1s\n",
      "\n",
      "bestTest = 0.1488920124\n",
      "bestIteration = 499\n",
      "\n",
      "\n",
      "bestTest = 0.1414382103\n",
      "bestIteration = 499\n",
      "\n",
      "\n",
      "bestTest = 0.2200119385\n",
      "bestIteration = 499\n",
      "\n",
      "60:\tloss: 0.2200119\tbest: 0.1403567 (56)\ttotal: 24s\tremaining: 18.5s\n",
      "\n",
      "bestTest = 0.1535706952\n",
      "bestIteration = 495\n",
      "\n",
      "\n",
      "bestTest = 0.1449874009\n",
      "bestIteration = 495\n",
      "\n",
      "\n",
      "bestTest = 0.1486364291\n",
      "bestIteration = 999\n",
      "\n",
      "63:\tloss: 0.1486364\tbest: 0.1403567 (56)\ttotal: 29.9s\tremaining: 20.6s\n",
      "\n",
      "bestTest = 0.1311558402\n",
      "bestIteration = 984\n",
      "\n",
      "\n",
      "bestTest = 0.1375263775\n",
      "bestIteration = 961\n",
      "\n",
      "\n",
      "bestTest = 0.1547340342\n",
      "bestIteration = 988\n",
      "\n",
      "66:\tloss: 0.1547340\tbest: 0.1311558 (64)\ttotal: 38.9s\tremaining: 23.8s\n",
      "\n",
      "bestTest = 0.1384060096\n",
      "bestIteration = 998\n",
      "\n",
      "\n",
      "bestTest = 0.1361605754\n",
      "bestIteration = 998\n",
      "\n",
      "\n",
      "bestTest = 0.1600303358\n",
      "bestIteration = 999\n",
      "\n",
      "69:\tloss: 0.1600303\tbest: 0.1311558 (64)\ttotal: 47.8s\tremaining: 25.9s\n",
      "\n",
      "bestTest = 0.1433759541\n",
      "bestIteration = 982\n",
      "\n",
      "\n",
      "bestTest = 0.1360435714\n",
      "bestIteration = 996\n",
      "\n",
      "\n",
      "bestTest = 7.315982328\n",
      "bestIteration = 49\n",
      "\n",
      "72:\tloss: 7.3159823\tbest: 0.1311558 (64)\ttotal: 54.5s\tremaining: 26.1s\n",
      "\n",
      "bestTest = 0.9945376619\n",
      "bestIteration = 49\n",
      "\n",
      "\n",
      "bestTest = 0.2184515907\n",
      "bestIteration = 49\n",
      "\n",
      "\n",
      "bestTest = 7.3463823\n",
      "bestIteration = 49\n",
      "\n",
      "75:\tloss: 7.3463823\tbest: 0.1311558 (64)\ttotal: 54.7s\tremaining: 23s\n",
      "\n",
      "bestTest = 1.010331049\n",
      "bestIteration = 49\n",
      "\n",
      "\n",
      "bestTest = 0.2274868028\n",
      "bestIteration = 49\n",
      "\n",
      "\n",
      "bestTest = 7.37245884\n",
      "bestIteration = 49\n",
      "\n",
      "78:\tloss: 7.3724588\tbest: 0.1311558 (64)\ttotal: 55.1s\tremaining: 20.2s\n",
      "\n",
      "bestTest = 1.033837785\n",
      "bestIteration = 49\n",
      "\n",
      "\n",
      "bestTest = 0.2458566105\n",
      "bestIteration = 49\n",
      "\n",
      "\n",
      "bestTest = 4.452046434\n",
      "bestIteration = 99\n",
      "\n",
      "81:\tloss: 4.4520464\tbest: 0.1311558 (64)\ttotal: 55.4s\tremaining: 17.6s\n",
      "\n",
      "bestTest = 0.2183553769\n",
      "bestIteration = 99\n",
      "\n",
      "\n",
      "bestTest = 0.1689122291\n",
      "bestIteration = 99\n",
      "\n",
      "\n",
      "bestTest = 4.484437051\n",
      "bestIteration = 99\n",
      "\n",
      "84:\tloss: 4.4844371\tbest: 0.1311558 (64)\ttotal: 56s\tremaining: 15.1s\n",
      "\n",
      "bestTest = 0.2332794229\n",
      "bestIteration = 99\n",
      "\n",
      "\n",
      "bestTest = 0.1800555605\n",
      "bestIteration = 99\n",
      "\n",
      "\n",
      "bestTest = 4.515703027\n",
      "bestIteration = 99\n",
      "\n",
      "87:\tloss: 4.5157030\tbest: 0.1311558 (64)\ttotal: 56.5s\tremaining: 12.9s\n",
      "\n",
      "bestTest = 0.2459414228\n",
      "bestIteration = 99\n",
      "\n",
      "\n",
      "bestTest = 0.1914952268\n",
      "bestIteration = 98\n",
      "\n",
      "\n",
      "bestTest = 0.2117307704\n",
      "bestIteration = 499\n",
      "\n",
      "90:\tloss: 0.2117308\tbest: 0.1311558 (64)\ttotal: 59.8s\tremaining: 11.2s\n",
      "\n",
      "bestTest = 0.1393897854\n",
      "bestIteration = 499\n",
      "\n",
      "\n",
      "bestTest = 0.1334334311\n",
      "bestIteration = 485\n",
      "\n",
      "\n",
      "bestTest = 0.2286783182\n",
      "bestIteration = 499\n",
      "\n",
      "93:\tloss: 0.2286783\tbest: 0.1311558 (64)\ttotal: 1m 8s\tremaining: 10.2s\n",
      "\n",
      "bestTest = 0.1532816774\n",
      "bestIteration = 499\n",
      "\n",
      "\n",
      "bestTest = 0.1486418707\n",
      "bestIteration = 466\n",
      "\n",
      "\n",
      "bestTest = 0.2420196287\n",
      "bestIteration = 499\n",
      "\n",
      "96:\tloss: 0.2420196\tbest: 0.1311558 (64)\ttotal: 1m 16s\tremaining: 8.69s\n",
      "\n",
      "bestTest = 0.1638967573\n",
      "bestIteration = 499\n",
      "\n",
      "\n",
      "bestTest = 0.1497968075\n",
      "bestIteration = 493\n",
      "\n",
      "\n",
      "bestTest = 0.1491946744\n",
      "bestIteration = 997\n",
      "\n",
      "99:\tloss: 0.1491947\tbest: 0.1311558 (64)\ttotal: 1m 27s\tremaining: 7s\n",
      "\n",
      "bestTest = 0.1317059451\n",
      "bestIteration = 980\n",
      "\n",
      "\n",
      "bestTest = 0.1295160929\n",
      "bestIteration = 962\n",
      "\n",
      "\n",
      "bestTest = 0.1614128588\n",
      "bestIteration = 999\n",
      "\n",
      "102:\tloss: 0.1614129\tbest: 0.1295161 (101)\ttotal: 1m 45s\tremaining: 5.1s\n",
      "\n",
      "bestTest = 0.1448762745\n",
      "bestIteration = 999\n",
      "\n",
      "\n",
      "bestTest = 0.1447469192\n",
      "bestIteration = 979\n",
      "\n",
      "\n",
      "bestTest = 0.1733677796\n",
      "bestIteration = 999\n",
      "\n",
      "105:\tloss: 0.1733678\tbest: 0.1295161 (101)\ttotal: 2m 1s\tremaining: 2.29s\n",
      "\n",
      "bestTest = 0.1522912495\n",
      "bestIteration = 999\n",
      "\n",
      "\n",
      "bestTest = 0.143217384\n",
      "bestIteration = 993\n",
      "\n",
      "107:\tloss: 0.1432174\tbest: 0.1295161 (101)\ttotal: 2m 13s\tremaining: 0us\n",
      "Estimating final quality...\n",
      "Training on fold [0/3]\n",
      "\n",
      "bestTest = 0.1488556467\n",
      "bestIteration = 569\n",
      "\n",
      "Training on fold [1/3]\n",
      "\n",
      "bestTest = 0.156050684\n",
      "bestIteration = 999\n",
      "\n",
      "Training on fold [2/3]\n",
      "\n",
      "bestTest = 0.1462419398\n",
      "bestIteration = 963\n",
      "\n"
     ]
    }
   ],
   "source": [
    "grid = {\n",
    "    'learning_rate': [0.01, 0.05, 0.1],\n",
    "    'depth':[1, 2,3],\n",
    "    'l2_leaf_reg': [1, 3, 5], \n",
    "    'iterations': [50, 100, 500, 1000]\n",
    "}\n",
    "grid_search_results = model.grid_search(grid, train_pool, shuffle=False, verbose=3, plot=True)"
   ]
  },
  {
   "cell_type": "code",
   "execution_count": null,
   "metadata": {},
   "outputs": [
    {
     "data": {
      "text/plain": [
       "{'depth': 3, 'l2_leaf_reg': 1, 'iterations': 1000, 'learning_rate': 0.1}"
      ]
     },
     "execution_count": 201,
     "metadata": {},
     "output_type": "execute_result"
    }
   ],
   "source": [
    "grid_search_results['params']"
   ]
  },
  {
   "cell_type": "code",
   "execution_count": null,
   "metadata": {},
   "outputs": [
    {
     "data": {
      "text/plain": [
       "dict_keys(['iterations', 'test-RMSE-mean', 'test-RMSE-std', 'train-RMSE-mean', 'train-RMSE-std'])"
      ]
     },
     "execution_count": 202,
     "metadata": {},
     "output_type": "execute_result"
    }
   ],
   "source": [
    "grid_search_results['cv_results'].keys()"
   ]
  },
  {
   "cell_type": "code",
   "execution_count": 37,
   "metadata": {},
   "outputs": [
    {
     "name": "stdout",
     "output_type": "stream",
     "text": [
      "Training on fold [0/3]\n",
      "\n",
      "bestTest = 0.1527830821\n",
      "bestIteration = 935\n",
      "\n",
      "Training on fold [1/3]\n",
      "\n",
      "bestTest = 0.1488158056\n",
      "bestIteration = 797\n",
      "\n",
      "Training on fold [2/3]\n",
      "\n",
      "bestTest = 0.1226435902\n",
      "bestIteration = 817\n",
      "\n"
     ]
    }
   ],
   "source": [
    "simple_gs_model = CatBoostRegressor(\n",
    "    eval_metric='RMSE',\n",
    "    random_seed=42,\n",
    "    verbose=False,\n",
    "    loss_function='RMSE', \n",
    "    learning_rate=grid_search_results['params']['learning_rate'], \n",
    "    depth=grid_search_results['params']['depth'],\n",
    "    l2_leaf_reg=grid_search_results['params']['l2_leaf_reg'],\n",
    "    iterations=grid_search_results['params']['iterations']\n",
    "\n",
    ").fit(train_pool)\n",
    "\n",
    "cv_data = cv(Pool(X, y, cat_features=categorical_features_indices), model.get_params())"
   ]
  },
  {
   "cell_type": "code",
   "execution_count": 38,
   "metadata": {},
   "outputs": [
    {
     "data": {
      "text/plain": [
       "0.13457163823548607"
      ]
     },
     "execution_count": 38,
     "metadata": {},
     "output_type": "execute_result"
    }
   ],
   "source": [
    "mean_squared_error(y_validation, simple_gs_model.predict(X_validation), squared=False)"
   ]
  },
  {
   "cell_type": "code",
   "execution_count": 42,
   "metadata": {},
   "outputs": [
    {
     "data": {
      "text/plain": [
       "178471.78100128766"
      ]
     },
     "execution_count": 42,
     "metadata": {},
     "output_type": "execute_result"
    }
   ],
   "source": [
    "submission_tuning = pd.DataFrame()\n",
    "submission_tuning['Id'] = df_test['Id']\n",
    "\n",
    "\n",
    "submission_tuning ['SalePrice'] = np.exp(simple_gs_model.predict(X_test))\n",
    "submission_tuning['SalePrice'].mean()"
   ]
  },
  {
   "cell_type": "code",
   "execution_count": 212,
   "metadata": {},
   "outputs": [],
   "source": [
    "submission_tuning.to_csv('/Users/vasevooo/projects/house_prices/housing_kaggle/data/submission_tuning.csv', index=False)"
   ]
  },
  {
   "cell_type": "markdown",
   "metadata": {},
   "source": [
    "## Stacking"
   ]
  },
  {
   "cell_type": "code",
   "execution_count": 233,
   "metadata": {},
   "outputs": [],
   "source": [
    "from sklearn.preprocessing import OneHotEncoder\n",
    "from sklearn.preprocessing import StandardScaler\n",
    "\n",
    "ss = StandardScaler()\n",
    "ohe = OneHotEncoder()"
   ]
  },
  {
   "attachments": {},
   "cell_type": "markdown",
   "metadata": {},
   "source": [
    "### feature preparation"
   ]
  },
  {
   "cell_type": "code",
   "execution_count": 251,
   "metadata": {},
   "outputs": [],
   "source": [
    "df_cat = df.select_dtypes(include = ['object']).astype(str)\n",
    "ohe.fit(df_cat)\n",
    "encoded_features = ohe.transform(df_cat).toarray()\n",
    "\n",
    "feature_names = []\n",
    "for i, cat in enumerate(ohe.categories_):\n",
    "    feature_names.extend([f\"{df_cat.columns[i]}_{value}\" for value in cat])\n",
    "\n",
    "encoded_df = pd.DataFrame(encoded_features, columns=feature_names)"
   ]
  },
  {
   "cell_type": "code",
   "execution_count": 265,
   "metadata": {},
   "outputs": [],
   "source": [
    "df_num = df.select_dtypes(include = ['int', 'float']).drop('Id',axis=1)"
   ]
  },
  {
   "cell_type": "code",
   "execution_count": 266,
   "metadata": {},
   "outputs": [],
   "source": [
    "scaled_df = pd.DataFrame(ss.fit_transform(df_num), columns=df_num.columns)"
   ]
  },
  {
   "cell_type": "code",
   "execution_count": 267,
   "metadata": {},
   "outputs": [
    {
     "data": {
      "text/plain": [
       "((2919, 36), (2919, 274))"
      ]
     },
     "execution_count": 267,
     "metadata": {},
     "output_type": "execute_result"
    }
   ],
   "source": [
    "scaled_df.shape, encoded_df.shape"
   ]
  },
  {
   "cell_type": "code",
   "execution_count": 268,
   "metadata": {},
   "outputs": [],
   "source": [
    "df_stacking = pd.concat([scaled_df, encoded_df], axis=1)"
   ]
  },
  {
   "cell_type": "code",
   "execution_count": 270,
   "metadata": {},
   "outputs": [
    {
     "data": {
      "text/plain": [
       "((1460, 310), (1459, 310))"
      ]
     },
     "execution_count": 270,
     "metadata": {},
     "output_type": "execute_result"
    }
   ],
   "source": [
    "df_train = df_stacking.loc[:ind_test,:]\n",
    "df_test = df_stacking.loc[ind_train:,:]\n",
    "\n",
    "df_train.shape, df_test.shape"
   ]
  },
  {
   "cell_type": "code",
   "execution_count": 272,
   "metadata": {},
   "outputs": [
    {
     "data": {
      "text/plain": [
       "((1095, 310), (365, 310), (1095,), (365,))"
      ]
     },
     "execution_count": 272,
     "metadata": {},
     "output_type": "execute_result"
    }
   ],
   "source": [
    "X = df_train\n",
    "X_test = df_test\n",
    "\n",
    "X_train, X_validation, y_train, y_validation = train_test_split(X, y, train_size=0.75, random_state=42)\n",
    "X_train.shape, X_validation.shape, y_train.shape, y_validation.shape"
   ]
  },
  {
   "cell_type": "code",
   "execution_count": 301,
   "metadata": {},
   "outputs": [],
   "source": [
    "from sklearn.ensemble import StackingRegressor\n",
    "from sklearn.linear_model import LinearRegression\n",
    "from sklearn.tree import DecisionTreeRegressor\n",
    "from sklearn.neighbors import KNeighborsRegressor\n",
    "from sklearn.ensemble import RandomForestRegressor\n",
    "from sklearn.ensemble import GradientBoostingRegressor\n",
    "\n",
    "from sklearn.model_selection import GridSearchCV"
   ]
  },
  {
   "cell_type": "code",
   "execution_count": 328,
   "metadata": {},
   "outputs": [],
   "source": [
    "# Create a list of base models to use in the stacked ensemble\n",
    "\n",
    "base_models = [\n",
    "    ('knn', KNeighborsRegressor()),\n",
    "    ('rf', RandomForestRegressor(n_estimators = 5, max_depth = 2)),\n",
    "    ('lr', LinearRegression())\n",
    "    \n",
    "]\n",
    "\n",
    "# Create a stacked ensemble model using the CatBoost model and the base models\n",
    "stacked_model = StackingRegressor(\n",
    "    estimators=base_models,\n",
    "    final_estimator=simple_gs_model,\n",
    "    cv=5\n",
    ")\n",
    "\n",
    "# Fit the stacked model to your data\n",
    "stacked_model.fit(X_train, y_train)\n",
    "\n",
    "# Use the fitted model to make predictions on new data\n",
    "predictions = stacked_model.predict(X_test)"
   ]
  },
  {
   "cell_type": "code",
   "execution_count": 329,
   "metadata": {},
   "outputs": [
    {
     "name": "stdout",
     "output_type": "stream",
     "text": [
      "Validation RMSE: 0.1441\n",
      "Train RMSE: 0.1092\n"
     ]
    }
   ],
   "source": [
    "val_rmse = mean_squared_error(y_validation, stacked_model.predict(X_validation), squared=False)\n",
    "train_rmse = mean_squared_error(y_train, stacked_model.predict(X_train), squared=False)\n",
    "\n",
    "print(f'Validation RMSE: {val_rmse:.4f}')\n",
    "print(f'Train RMSE: {train_rmse:.4f}')"
   ]
  },
  {
   "cell_type": "code",
   "execution_count": 330,
   "metadata": {},
   "outputs": [],
   "source": [
    "submission_stacking = pd.DataFrame()\n",
    "submission_stacking['Id'] = df.loc[ind_train:,'Id']\n",
    "submission_stacking ['SalePrice'] = np.exp(stacked_model.predict(X_test))"
   ]
  },
  {
   "cell_type": "code",
   "execution_count": 331,
   "metadata": {},
   "outputs": [],
   "source": [
    "submission_stacking.to_csv('/Users/vasevooo/projects/house_prices/housing_kaggle/data/submission_stacking.csv', index=False)"
   ]
  },
  {
   "cell_type": "code",
   "execution_count": null,
   "metadata": {},
   "outputs": [],
   "source": []
  }
 ],
 "metadata": {
  "kernelspec": {
   "display_name": "env",
   "language": "python",
   "name": "python3"
  },
  "language_info": {
   "codemirror_mode": {
    "name": "ipython",
    "version": 3
   },
   "file_extension": ".py",
   "mimetype": "text/x-python",
   "name": "python",
   "nbconvert_exporter": "python",
   "pygments_lexer": "ipython3",
   "version": "3.9.6"
  },
  "orig_nbformat": 4
 },
 "nbformat": 4,
 "nbformat_minor": 2
}
